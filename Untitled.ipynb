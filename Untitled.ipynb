{
 "cells": [
  {
   "cell_type": "code",
   "execution_count": 1,
   "id": "c6bd63e4",
   "metadata": {},
   "outputs": [
    {
     "name": "stdout",
     "output_type": "stream",
     "text": [
      "PYTHONPATH: None\n",
      "PATH: C:\\Users\\lina2\\anaconda3\\envs\\PythonData;C:\\Users\\lina2\\anaconda3\\envs\\PythonData\\Library\\mingw-w64\\bin;C:\\Users\\lina2\\anaconda3\\envs\\PythonData\\Library\\usr\\bin;C:\\Users\\lina2\\anaconda3\\envs\\PythonData\\Library\\bin;C:\\Users\\lina2\\anaconda3\\envs\\PythonData\\Scripts;C:\\Users\\lina2\\anaconda3\\envs\\PythonData\\bin;C:\\Users\\lina2\\anaconda3\\condabin;C:\\WINDOWS\\system32;C:\\WINDOWS;C:\\WINDOWS\\System32\\Wbem;C:\\WINDOWS\\System32\\WindowsPowerShell\\v1.0;C:\\WINDOWS\\System32\\OpenSSH;C:\\Program Files\\Git\\cmd;C:\\Program Files\\PostgreSQL\\12\\bin;C:\\Program Files\\PostgreSQL\\11\\bin;C:\\Program Files\\MongoDB\\Server\\6.0\\bin;C:\\Users\\lina2\\AppData\\Local\\Programs\\Python\\Python310\\Scripts;C:\\Users\\lina2\\AppData\\Local\\Programs\\Python\\Python310;C:\\Users\\lina2\\AppData\\Local\\Microsoft\\WindowsApps;.;C:\\Users\\lina2\\AppData\\Local\\Programs\\Microsoft VS Code\\bin;C:\\Program Files\\JetBrains\\PyCharm 2022.1.2\\bin;.;C:\\Users\\lina2\\AppData\\Local\\Programs\\mongosh\n"
     ]
    }
   ],
   "source": [
    "import os\n",
    "print(\"PYTHONPATH:\", os.environ.get('PYTHONPATH'))\n",
    "print(\"PATH:\", os.environ.get('PATH'))"
   ]
  },
  {
   "cell_type": "code",
   "execution_count": null,
   "id": "49fca6b3",
   "metadata": {},
   "outputs": [],
   "source": []
  }
 ],
 "metadata": {
  "kernelspec": {
   "display_name": "Python 3 (ipykernel)",
   "language": "python",
   "name": "python3"
  },
  "language_info": {
   "codemirror_mode": {
    "name": "ipython",
    "version": 3
   },
   "file_extension": ".py",
   "mimetype": "text/x-python",
   "name": "python",
   "nbconvert_exporter": "python",
   "pygments_lexer": "ipython3",
   "version": "3.7.13"
  }
 },
 "nbformat": 4,
 "nbformat_minor": 5
}
